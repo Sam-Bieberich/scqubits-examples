{
 "cells": [
  {
   "cell_type": "markdown",
   "metadata": {},
   "source": [
    "# Driven composite systems and interface with QuTiP in scQubits\n",
    "\n",
    "Systems of interest in quantum computing generally involve mutual coupling between multiple quantum systems.\n",
    "By driving these individual subsystems, we can perform single- or multi-qubit gates.\n",
    "\n",
    "In the context of superconducting circuits, a common method of driving a circuit is to capacitively couple a voltage bias to one or multiple nodes of the circuit. \n",
    "By a proper choice of drive frequency, amplitude and envelope, logical operations can be achieved.\n",
    "\n",
    "The popular Python package QuTiP can be used to simulate the time dynamics of quantum systems. \n",
    "For the simulation of superconducting circuits, scQubits provides a transparent interface to QuTiP through the `HilbertSpace` class.\n",
    "\n",
    "These notebooks showcase how scQubits can be easily used to simulate dynamics of driven superconducting circuits through examples from the literature. The notebook\n",
    "`FluxoniumRestTutorial.ipynb` provides a tutorial for using scQubits to simulate the heavy-fluxonium initialization procedure described in [Universal fast flux control of a coherent, low-frequency qubit](https://journals.aps.org/prx/pdf/10.1103/PhysRevX.11.011010) by Zhang et al. The notebook `FluxoniumCZTutorial.ipynb` contains a tutorial for using scQubits to simulate the procedure for effecting a CZ-gate on a coupled pair of fluxonium qubits described by Nesterov et al. in [Microwave-Activated Controlled-Z Gate for Fixed-Frequency Fluxonium Qubits.](https://arxiv.org/abs/1802.03095)"
   ]
  },
  {
   "cell_type": "markdown",
   "metadata": {},
   "source": [
    "# Heavy-fluxonium initialization tutorial\n",
    "\n",
    "B. McDonough\n",
    "\n",
    "This notebook provides a tutorial for using scQubits to simulate the heavy-fluxonium initialization procedure described in [Universal fast flux control of a coherent, low-frequency qubit](https://journals.aps.org/prx/pdf/10.1103/PhysRevX.11.011010) by Zhang et al."
   ]
  },
  {
   "cell_type": "markdown",
   "metadata": {},
   "source": [
    "For a typical heavy-fluxonium qubit, the frequency of the transition between the first two energy levels is small in comparison to the temperature of the bath. Thus the qubit relaxes to a mixed state, in contrast to higher-frequency transmon qubits which typically relax to the ground state. The coupling to a low-Q resonator provides the non-unitary process needed to remove entropy from this state.\n",
    "\n",
    "To summarize this procedure, the qubit begins in a nearly completely mixed state between the first two energy levels, $\\rho \\approx \\frac{1}{2}(|g\\rangle \\langle g| +|e\\rangle \\langle e|)\\otimes |0\\rangle \\langle 0 |$. The first four levels of the fluxonium are labeled with $g,e,f,h$ respectively, and the resonator Fock states are labeled with numbers. The transitions $|g0\\rangle$ to $|h0\\rangle$ and $|h0\\rangle$ to $|e1\\rangle$ are driven simulataneously for a period of 15 $\\mu$ s. Throughout this process, photon loss in the resonator causes the population of $|e1\\rangle$ to transition to $|e0\\rangle$. The system eventually reaches a steady state, preparing $|e0\\rangle$ with high fidelity.\n",
    "\n",
    "The Hamiltonian of the coupled fluxonium-resonator system with a drive at frequency $\\omega_d$ capacitively coupled to the resonator is\n",
    "$$\n",
    "H = 4E_C\\hat n - E_J \\cos(\\hat \\phi-\\pi) + \\frac{1}{2}E_L \\hat \\phi^2 + g \\hat n (a+a^\\dagger) + E_{osc}a^\\dagger a + f(t)\\cos(\\omega_d t)(a+a^\\dagger)\n",
    "$$"
   ]
  },
  {
   "cell_type": "code",
   "execution_count": null,
   "metadata": {},
   "outputs": [],
   "source": [
    "import qutip as qt\n",
    "import numpy as np\n",
    "from matplotlib import pyplot as plt\n",
    "import scqubits as scq\n",
    "\n",
    "# experimental values borrowed from\n",
    "# https://journals.aps.org/prx/pdf/10.1103/PhysRevX.11.011010\n",
    "qbt = scq.Fluxonium(\n",
    "    EJ=3.395,\n",
    "    EC=0.479,\n",
    "    EL=0.132,\n",
    "    flux=0.5,  # flux frustration point\n",
    "    cutoff=110,\n",
    "    truncated_dim=10,\n",
    "    id_str=\"qubit\"\n",
    ")\n",
    "\n",
    "osc = scq.Oscillator(E_osc=5.7, truncated_dim=8, id_str=\"resonator\")\n",
    "\n",
    "hilbertspace = scq.HilbertSpace([qbt, osc])\n",
    "\n",
    "hilbertspace.add_interaction(\n",
    "    g_strength=.4, op1=qbt.n_operator, op2=osc.creation_operator, add_hc=True\n",
    ")\n",
    "\n",
    "# Precompute eigensystem to save later computation\n",
    "hilbertspace.generate_lookup()"
   ]
  },
  {
   "cell_type": "markdown",
   "metadata": {},
   "source": [
    "## Drive simulation methods"
   ]
  },
  {
   "cell_type": "code",
   "execution_count": null,
   "metadata": {},
   "outputs": [],
   "source": [
    "# get the transition frequency between two states specified by dressed indices\n",
    "def transition_frequency(s0: int, s1: int) -> float:\n",
    "    return (\n",
    "        (\n",
    "            hilbertspace.energy_by_dressed_index(s1)\n",
    "            - hilbertspace.energy_by_dressed_index(s0)\n",
    "        )\n",
    "        * 2\n",
    "        * np.pi\n",
    "    )\n",
    "# Get the period of one Rabi cycle as a function of operator matrix element and drive strength\n",
    "def drive_strength(s0: int, s1: int, period: float, drive_operator: qt.Qobj):\n",
    "    # divide by 2pi for drive strength in units of GHz\n",
    "    return abs(1 / (period * drive_operator.full()[s0][s1]))\n",
    "        \n",
    "\n",
    "    return result\n",
    "\n",
    "def rabi_period(s0: int, s1: int, Omega: float, drive_operator: qt.Qobj):\n",
    "    # divide by 2pi for period in units of ns\n",
    "    return abs(1 / (Omega * drive_operator.full()[s0][s1]))"
   ]
  },
  {
   "cell_type": "markdown",
   "metadata": {},
   "source": [
    "## Truncating operators\n",
    "The efficiency of the simulation is greatly improved by truncating the operators.  The truncation happens in two steps:\n",
    "1) The first truncation is controlled by setting the `truncated_dim` parameter in the subsystem initialization, which determines the dimension used in diagonalizing the Hamiltonian. Setting these too low can result in an unphysical simulation. Even if energy levels above the truncation are not explicitly involved, they can still drastically affect the matrix elements of the operators. \n",
    "\n",
    "2) Once the matrix elements and eigenvalues have been obtained, the operators can be truncated further. This truncation can greatly improve the runtime of the simulation. \n",
    "\n",
    "Here, a coupled system with dimensions $10$ by $8$ is simulated. These truncation levels are reasonable to obtain the operators for each individual system. However, this results in a full Hamiltonian represented by an $80 \\times 80$ matrix. After diagonalization, the Hamiltonian and subsystem operators can be safely truncated to a lower dimension, specified here by the variable `total_truncation`."
   ]
  },
  {
   "cell_type": "code",
   "execution_count": null,
   "metadata": {},
   "outputs": [],
   "source": [
    "# The matrix representations can be truncated further for the simulation\n",
    "total_truncation = 20\n",
    "\n",
    "# truncate operators to desired dimension\n",
    "def truncate(operator: qt.Qobj, dimension: int) -> qt.Qobj:\n",
    "    return qt.Qobj(operator[:dimension, :dimension])"
   ]
  },
  {
   "cell_type": "markdown",
   "metadata": {},
   "source": [
    "## Drive operators"
   ]
  },
  {
   "cell_type": "code",
   "execution_count": null,
   "metadata": {},
   "outputs": [],
   "source": [
    "# express the resonator drive operator in the dressed eigenbasis of the system\n",
    "phi_r = hilbertspace.op_in_dressed_eigenbasis((osc.annihilation_operator, osc)) \\\n",
    "    + hilbertspace.op_in_dressed_eigenbasis((osc.creation_operator, osc))\n",
    "\n",
    "#truncate operator for more efficient simulation\n",
    "phi_r_trunc = truncate(phi_r, total_truncation)\n",
    "\n",
    "# do the same for the qubit charge operator\n",
    "n_qbt = hilbertspace.op_in_dressed_eigenbasis((qbt.n_operator, qbt))\n",
    "\n",
    "#truncate operator\n",
    "n_qbt_trunc = truncate(n_qbt, total_truncation)"
   ]
  },
  {
   "cell_type": "markdown",
   "metadata": {},
   "source": [
    "The dressed eigenstates correspond closely to the bare product states when the coupling is weak. The `dressed_index` function matches a product state to the corresponding dressed eigenstate."
   ]
  },
  {
   "cell_type": "code",
   "execution_count": null,
   "metadata": {},
   "outputs": [],
   "source": [
    "#Get energy indices most closely matching product state indices\n",
    "g0 = hilbertspace.dressed_index((0,0))\n",
    "e0 = hilbertspace.dressed_index((1,0))\n",
    "h0 = hilbertspace.dressed_index((3,0))\n",
    "e1 = hilbertspace.dressed_index((1,1))\n",
    "\n",
    "# Get eigenstates matching product state dressed indices\n",
    "states = [qt.basis(total_truncation, i) for i in [g0, e0, h0, e1]]\n",
    "period = 500\n",
    "Omega1 = drive_strength(g0, h0, period, phi_r)\n",
    "Omega2 = drive_strength(h0, e1, period, phi_r)\n",
    "\n",
    "# g0 -> h0 transition\n",
    "omega_1 = transition_frequency(h0, g0)\n",
    "# h0 -> e1 transition\n",
    "omega_2 = transition_frequency(e1, h0)\n",
    "\n",
    "# drive amplitude as a function of time\n",
    "def drive_coeff(t : float, args : dict) -> float:\n",
    "    return Omega1 * np.cos(omega_1 * t) + Omega2 * np.cos(omega_2 * t)\n",
    "\n",
    "# get the diagonal Hamiltonian in the dressed basis\n",
    "(evals,) = hilbertspace[\"evals\"]"
   ]
  },
  {
   "cell_type": "markdown",
   "metadata": {},
   "source": [
    "## Units\n",
    "scQubits natively reports energy in GHz, units of frequency. The frequency $f$ and the radial frequency $\\omega$ are related via\n",
    "$$\n",
    "\\hbar \\omega = h f\n",
    "$$\n",
    "The constants $h$ and $\\hbar$ are related by $h = 2\\pi \\hbar$, so the angular frequency in units of radians per nanosecond is given by $\\omega = 2\\pi f$. For this reason, the energies obtained from diagonalization and the matrix elements need to be multiplied by $2\\pi$ for simulating in QuTiP."
   ]
  },
  {
   "cell_type": "code",
   "execution_count": null,
   "metadata": {},
   "outputs": [],
   "source": [
    "# The factor of 2pi converts the energy to GHz so that the time is in units of ns\n",
    "diag_dressed_hamiltonian = qt.Qobj(\n",
    "    2 * np.pi * np.diag(evals), dims=[hilbertspace.subsystem_dims] * 2\n",
    ")\n",
    "diag_dressed_hamiltonian_trunc = truncate(diag_dressed_hamiltonian, total_truncation)\n",
    "\n",
    "# The time-dependent driven Hamiltonian\n",
    "H_qbt_drive = [\n",
    "    diag_dressed_hamiltonian_trunc,\n",
    "    #Another factor of 2pi is needed to convert energy to units where time is in ns\n",
    "    [2 * np.pi * phi_r_trunc, drive_coeff],  # driving through the resonator\n",
    "]"
   ]
  },
  {
   "cell_type": "markdown",
   "metadata": {},
   "source": [
    "## Resonator photon loss\n",
    "The resonator photon loss is modeled through the quantum channel $\\mathcal{E}(\\rho) = \\kappa a\\rho a^\\dagger$, defined by the collapse operator $\\sqrt{\\kappa } a$."
   ]
  },
  {
   "cell_type": "code",
   "execution_count": null,
   "metadata": {},
   "outputs": [],
   "source": [
    "# resonator decay constant\n",
    "kappa = 0.003\n",
    "# annihilation operator\n",
    "a_osc = truncate(\n",
    "    #basis_change(osc.annihilation_operator(), osc, hilbertspace), total_truncation\n",
    "    hilbertspace.op_in_dressed_eigenbasis((osc.annihilation_operator, osc)),\n",
    "    total_truncation\n",
    ")"
   ]
  },
  {
   "cell_type": "markdown",
   "metadata": {},
   "source": [
    "## Simulation\n",
    "\n",
    "\n",
    "Note:  evaluating the following cell will likely require several minutes of computation time."
   ]
  },
  {
   "cell_type": "code",
   "execution_count": null,
   "metadata": {},
   "outputs": [],
   "source": [
    "# initial mixed state\n",
    "thermal_state = 0.5 * (states[0] * states[0].dag() + states[1] * states[1].dag())\n",
    "\n",
    "dt = 2 \n",
    "total_time = 6000\n",
    "tlist = np.linspace(0, 6000, int(total_time/dt))  # total time\n",
    "\n",
    "\n",
    "result = qt.mesolve(\n",
    "    H_qbt_drive,  # hamiltonian\n",
    "    thermal_state,  # initial density matrix\n",
    "    tlist,\n",
    "    e_ops=[state * state.dag() for state in states],  # expectation values\n",
    "    c_ops=[np.sqrt(kappa) * a_osc],  # photon loss\n",
    ")"
   ]
  },
  {
   "cell_type": "code",
   "execution_count": null,
   "metadata": {},
   "outputs": [],
   "source": [
    "for i in range(4):\n",
    "    plt.plot(tlist, result.expect[i], label=r\"$|%u\\rangle$\" % (i))\n",
    "plt.legend()\n",
    "plt.xlabel(\"t (ns)\")\n",
    "plt.ylabel(\"population\")"
   ]
  },
  {
   "cell_type": "code",
   "execution_count": null,
   "metadata": {},
   "outputs": [],
   "source": [
    "print(\"Fidelity:\", result.expect[1][-1])"
   ]
  },
  {
   "cell_type": "code",
   "execution_count": null,
   "metadata": {},
   "outputs": [],
   "source": []
  },
  {
   "cell_type": "code",
   "execution_count": null,
   "metadata": {},
   "outputs": [],
   "source": []
  }
 ],
 "metadata": {
  "kernelspec": {
   "display_name": "Python 3 (ipykernel)",
   "language": "python",
   "name": "python3"
  },
  "language_info": {
   "codemirror_mode": {
    "name": "ipython",
    "version": 3
   },
   "file_extension": ".py",
   "mimetype": "text/x-python",
   "name": "python",
   "nbconvert_exporter": "python",
   "pygments_lexer": "ipython3",
   "version": "3.12.3"
  },
  "vscode": {
   "interpreter": {
    "hash": "9164de953f07298d5425f06b7f44c8ff0307d8bc321681348712c726632dc63f"
   }
  }
 },
 "nbformat": 4,
 "nbformat_minor": 4
}
