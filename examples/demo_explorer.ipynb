{
 "cells": [
  {
   "cell_type": "markdown",
   "metadata": {},
   "source": [
    "# scqubits example: the Explorer class\n",
    "J. Koch and P. Groszkowski\n",
    "\n",
    "For further documentation of scqubits see https://scqubits.readthedocs.io/en/latest/.\n",
    "\n",
    "---"
   ]
  },
  {
   "cell_type": "markdown",
   "metadata": {},
   "source": [
    "# The Explorer Class\n",
    "\n",
    "Sometimes, exploring the properties of coupled quantum systems benefits from visual aides, and the possibility to see how properties change when system parameters are changed. The `Explorer` class in scqubits provides an interactive plot with multiple panels. \n",
    "\n",
    "The idea behind the `Explorer` class is simple: the user selects an external parameter that they wish to sweep, e.g., an external magnetic flux. The composite system is user-defined through the `HilbertSpace` and `InteractionTerm` classes, allowing flexibility to include different types and numbers of superconducting qubits and harmonic modes.\n",
    "\n",
    "Once defined, the parameter sweep is computed by means of the `ParameterSweep` class, and spectral data is stored in memory to allow efficient, interactive display of data. The `Explorer` supports plots of:\n",
    "\n",
    "1. Bare spectra of the individual qubits\n",
    "2. Wave functions of the bare qubits\n",
    "3. Dressed spectrum of the composite Hilbert space\n",
    "4. Spectrum for n-photon qubit transitions, starting from a given initial state\n",
    "5. AC Stark shift $\\chi_{01}$ for any of the qubits\n",
    "6. Charge matrix elements for any of the qubits, using the same initial state as in point 4.\n",
    "\n",
    "## Example 1: fluxonium coupled to resonator\n",
    "As a first example, we consider a system composed of a fluxonium qubit, coupled through its charge operator to the voltage inside a resonator."
   ]
  },
  {
   "cell_type": "code",
   "execution_count": 1,
   "metadata": {
    "ExecuteTime": {
     "end_time": "2020-02-13T14:26:06.228141Z",
     "start_time": "2020-02-13T14:26:06.213556Z"
    }
   },
   "outputs": [
    {
     "data": {
      "application/vnd.jupyter.widget-view+json": {
       "model_id": "40463f32303b4cebadb9fba1e67320eb",
       "version_major": 2,
       "version_minor": 0
      },
      "text/plain": [
       "Bare spectra:   0%|          | 0/101 [00:00<?, ?it/s]"
      ]
     },
     "metadata": {},
     "output_type": "display_data"
    },
    {
     "data": {
      "application/vnd.jupyter.widget-view+json": {
       "model_id": "73a179bc5f1a4d76bf8eab100eb07f13",
       "version_major": 2,
       "version_minor": 0
      },
      "text/plain": [
       "Bare spectra:   0%|          | 0/1 [00:00<?, ?it/s]"
      ]
     },
     "metadata": {},
     "output_type": "display_data"
    },
    {
     "data": {
      "application/vnd.jupyter.widget-view+json": {
       "model_id": "53118a8c7db94cdcb683283aec2e7def",
       "version_major": 2,
       "version_minor": 0
      },
      "text/plain": [
       "Dressed spectrum:   0%|          | 0/101 [00:00<?, ?it/s]"
      ]
     },
     "metadata": {},
     "output_type": "display_data"
    }
   ],
   "source": [
    "import numpy as np\n",
    "import scqubits as scq\n",
    "\n",
    "qbt = scq.Fluxonium(\n",
    "    EJ=2.55,\n",
    "    EC=0.72,\n",
    "    EL=0.12,\n",
    "    flux=0.0,\n",
    "    cutoff=110,\n",
    "    truncated_dim=9\n",
    ")\n",
    "\n",
    "osc = scq.Oscillator(\n",
    "    E_osc=4.0,\n",
    "    truncated_dim=5\n",
    ")\n",
    "\n",
    "hilbertspace = scq.HilbertSpace([qbt, osc])\n",
    "\n",
    "hilbertspace.add_interaction(\n",
    "    g_strength=0.2,\n",
    "    op1=qbt.n_operator,\n",
    "    op2=osc.creation_operator,\n",
    "    add_hc=True\n",
    ")\n",
    "\n",
    "param_name = 'Φext/Φ0'\n",
    "param_vals = np.linspace(-0.5, 0.5, 101)\n",
    "\n",
    "subsys_update_list = [qbt]\n",
    "\n",
    "\n",
    "def update_hilbertspace(param_val):\n",
    "    qbt.flux = param_val\n",
    "\n",
    "\n",
    "sweep = scq.ParameterSweep(\n",
    "    paramvals_by_name={param_name: param_vals},\n",
    "    evals_count=20,\n",
    "    hilbertspace=hilbertspace,\n",
    "    subsys_update_info={param_name: [qbt]},\n",
    "    update_hilbertspace=update_hilbertspace,\n",
    ")"
   ]
  },
  {
   "cell_type": "markdown",
   "metadata": {},
   "source": [
    "### Starting the Explorer class\n",
    "At this point, everything is prepared to start the interactive `Explorer` display!"
   ]
  },
  {
   "cell_type": "code",
   "execution_count": 2,
   "metadata": {},
   "outputs": [
    {
     "data": {
      "application/vnd.jupyter.widget-view+json": {
       "model_id": "8ce08088a7d14c598c84e93069af0aec",
       "version_major": 2,
       "version_minor": 0
      },
      "text/plain": [
       "Container(children=[Sheet(children=[Card(children=[Img(layout=None, src='data:image/png;base64,iVBORw0KGgoAAAA…"
      ]
     },
     "metadata": {},
     "output_type": "display_data"
    }
   ],
   "source": [
    "xp = scq.Explorer(sweep)"
   ]
  },
  {
   "cell_type": "markdown",
   "metadata": {},
   "source": [
    "## Example 2:  two transmons coupled to a resonator\n",
    "In the following second example, we consider a system composed of two flux-tunable transmons, capacitively coupled to one joint harmonic mode. (The flux is assumed to arise from a global field, and the SQUID-loop areas of the two transmons are different with an area ratio of 1.4) \n",
    "\n",
    "### Hilbert space setup"
   ]
  },
  {
   "cell_type": "code",
   "execution_count": 3,
   "metadata": {},
   "outputs": [],
   "source": [
    "qbt1 = scq.Transmon(\n",
    "     EJ=25.0,\n",
    "     EC=0.2,\n",
    "     ng=0,\n",
    "     ncut=30,\n",
    "     truncated_dim=3)\n",
    "\n",
    "qbt2 = scq.Transmon(\n",
    "     EJ=15.0,\n",
    "     EC=0.15,\n",
    "     ng=0,\n",
    "     ncut=30,\n",
    "     truncated_dim=3)\n",
    "\n",
    "\n",
    "resonator = scq.Oscillator(\n",
    "    E_osc=5.5,\n",
    "    truncated_dim=4)\n",
    "\n",
    "hilbertspace = scq.HilbertSpace([qbt1, qbt2, resonator])\n",
    "\n",
    "\n",
    "g1 = 0.1  # coupling resonator-CPB1 (without charge matrix elements)\n",
    "g2 = 0.2  # coupling resonator-CPB2 (without charge matrix elements)\n",
    "\n",
    "hilbertspace.add_interaction(\n",
    "    g_strength = g1,\n",
    "    op1 = qbt1.n_operator,\n",
    "    op2 = resonator.creation_operator,\n",
    "    add_hc = True\n",
    ")\n",
    "\n",
    "hilbertspace.add_interaction(\n",
    "    g_strength = g2,\n",
    "    op1 = qbt2.n_operator,\n",
    "    op2 = resonator.creation_operator,\n",
    "    add_hc = True\n",
    ")"
   ]
  },
  {
   "cell_type": "markdown",
   "metadata": {},
   "source": [
    "### Parameter sweep setup"
   ]
  },
  {
   "cell_type": "code",
   "execution_count": 4,
   "metadata": {},
   "outputs": [
    {
     "data": {
      "application/vnd.jupyter.widget-view+json": {
       "model_id": "1b56b3d5be6b403f895488c30673f16b",
       "version_major": 2,
       "version_minor": 0
      },
      "text/plain": [
       "Bare spectra:   0%|          | 0/151 [00:00<?, ?it/s]"
      ]
     },
     "metadata": {},
     "output_type": "display_data"
    },
    {
     "data": {
      "application/vnd.jupyter.widget-view+json": {
       "model_id": "6c833fe93ca847d2a196c1304a10e40f",
       "version_major": 2,
       "version_minor": 0
      },
      "text/plain": [
       "Bare spectra:   0%|          | 0/151 [00:00<?, ?it/s]"
      ]
     },
     "metadata": {},
     "output_type": "display_data"
    },
    {
     "data": {
      "application/vnd.jupyter.widget-view+json": {
       "model_id": "0a279d2a444146ea879a58b66d91a550",
       "version_major": 2,
       "version_minor": 0
      },
      "text/plain": [
       "Bare spectra:   0%|          | 0/1 [00:00<?, ?it/s]"
      ]
     },
     "metadata": {},
     "output_type": "display_data"
    },
    {
     "data": {
      "application/vnd.jupyter.widget-view+json": {
       "model_id": "e1dc9e9dc66e4d66999adbd5a6b1ec95",
       "version_major": 2,
       "version_minor": 0
      },
      "text/plain": [
       "Dressed spectrum:   0%|          | 0/151 [00:00<?, ?it/s]"
      ]
     },
     "metadata": {},
     "output_type": "display_data"
    }
   ],
   "source": [
    "param_name = r'$\\Phi_{ext}/\\Phi_0$'\n",
    "param_vals = np.linspace(0.0, 1.0, 151)\n",
    "\n",
    "subsys_update_list = [qbt1, qbt2]\n",
    "\n",
    "\n",
    "def update_hilbertspace(param_val):     # function that shows how Hilbert space components are updated\n",
    "    qbt1.EJ = 30*np.abs(np.cos(np.pi * param_val))\n",
    "    qbt2.EJ = 40*np.abs(np.cos(np.pi * param_val * 2))\n",
    "\n",
    "\n",
    "sweep = scq.ParameterSweep(\n",
    "    paramvals_by_name={param_name: param_vals},\n",
    "    evals_count=15,\n",
    "    hilbertspace=hilbertspace,\n",
    "    subsys_update_info={param_name: [qbt1, qbt2]},\n",
    "    update_hilbertspace=update_hilbertspace,\n",
    ")"
   ]
  },
  {
   "cell_type": "markdown",
   "metadata": {},
   "source": [
    "### Start Explorer"
   ]
  },
  {
   "cell_type": "code",
   "execution_count": 5,
   "metadata": {},
   "outputs": [
    {
     "data": {
      "application/vnd.jupyter.widget-view+json": {
       "model_id": "0e1430b779fd47e5946c952bb1810944",
       "version_major": 2,
       "version_minor": 0
      },
      "text/plain": [
       "Container(children=[Sheet(children=[Card(children=[Img(layout=None, src='data:image/png;base64,iVBORw0KGgoAAAA…"
      ]
     },
     "metadata": {},
     "output_type": "display_data"
    }
   ],
   "source": [
    "explorer = scq.Explorer(sweep=sweep)"
   ]
  }
 ],
 "metadata": {
  "kernelspec": {
   "display_name": "Python 3 (ipykernel)",
   "language": "python",
   "name": "python3"
  },
  "language_info": {
   "codemirror_mode": {
    "name": "ipython",
    "version": 3
   },
   "file_extension": ".py",
   "mimetype": "text/x-python",
   "name": "python",
   "nbconvert_exporter": "python",
   "pygments_lexer": "ipython3",
   "version": "3.11.7"
  },
  "pycharm": {
   "stem_cell": {
    "cell_type": "raw",
    "metadata": {
     "collapsed": false
    },
    "source": []
   }
  },
  "toc": {
   "base_numbering": 1,
   "nav_menu": {},
   "number_sections": false,
   "sideBar": true,
   "skip_h1_title": true,
   "title_cell": "Table of Contents",
   "title_sidebar": "Contents",
   "toc_cell": false,
   "toc_position": {},
   "toc_section_display": true,
   "toc_window_display": true
  }
 },
 "nbformat": 4,
 "nbformat_minor": 4
}
